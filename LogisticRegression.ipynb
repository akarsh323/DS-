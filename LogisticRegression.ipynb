{
  "cells": [
    {
      "cell_type": "markdown",
      "metadata": {
        "id": "view-in-github",
        "colab_type": "text"
      },
      "source": [
        "<a href=\"https://colab.research.google.com/github/akarsh323/DS-/blob/main/LogisticRegression.ipynb\" target=\"_parent\"><img src=\"https://colab.research.google.com/assets/colab-badge.svg\" alt=\"Open In Colab\"/></a>"
      ]
    },
    {
      "cell_type": "markdown",
      "source": [
        "Load essential libraries"
      ],
      "metadata": {
        "id": "d53ylTKoavaE"
      },
      "id": "d53ylTKoavaE"
    },
    {
      "cell_type": "code",
      "execution_count": null,
      "id": "11cd04ba",
      "metadata": {
        "id": "11cd04ba"
      },
      "outputs": [],
      "source": [
        "## Load essential libraries\n",
        "import numpy as np\n",
        "import pandas as pd\n",
        "import sys\n",
        "import matplotlib.pyplot as plt\n",
        "import matplotlib.cm as cm\n",
        "plt.style.use('seaborn-whitegrid')\n",
        "%matplotlib inline\n",
        "\n",
        "from sklearn.preprocessing import OneHotEncoder, LabelEncoder\n",
        "from sklearn.model_selection import train_test_split\n",
        "\n",
        "import warnings\n",
        "warnings.filterwarnings(\"ignore\")"
      ]
    },
    {
      "cell_type": "markdown",
      "source": [
        "Mount the Google Drive folder, if needed, for accessing data"
      ],
      "metadata": {
        "id": "2OiQVoA4a5iX"
      },
      "id": "2OiQVoA4a5iX"
    },
    {
      "cell_type": "code",
      "source": [
        "# ## Mount the Google Drive folder, if needed, for accessing data\n",
        "# if('google.colab' in sys.modules):\n",
        "#     from google.colab import drive\n",
        "#     drive.mount('/content/drive', force_remount = True)\n",
        "#     # Change path below starting from /content/drive/MyDrive/Colab Notebooks/\n",
        "#     # depending on how data is organized inside your Colab Notebooks folder in\n",
        "#     # Google Drive\n",
        "#     DIR = '/content/drive/MyDrive/Colab'\n",
        "#     DATA_DIR = DIR+'/Data/'\n",
        "# else:\n",
        "#     DATA_DIR = 'Data/'"
      ],
      "metadata": {
        "id": "8N869o4CHSl3"
      },
      "id": "8N869o4CHSl3",
      "execution_count": null,
      "outputs": []
    },
    {
      "cell_type": "markdown",
      "source": [
        "Load the ICU dataset"
      ],
      "metadata": {
        "id": "JzzzBexZa73j"
      },
      "id": "JzzzBexZa73j"
    },
    {
      "cell_type": "code",
      "source": [
        "## Load the ICU dataset\n",
        "FILENAME ='ICU_Complete.csv'\n",
        "df = pd.read_csv(FILENAME)\n",
        "print('ICU dataset')\n",
        "print('-----------')\n",
        "print(df.info(verbose = True))"
      ],
      "metadata": {
        "id": "YOyUpg1xaTAz",
        "colab": {
          "base_uri": "https://localhost:8080/"
        },
        "outputId": "6e2793a9-0eb7-4167-a62e-a50f4ccc2c6f"
      },
      "id": "YOyUpg1xaTAz",
      "execution_count": null,
      "outputs": [
        {
          "output_type": "stream",
          "name": "stdout",
          "text": [
            "ICU dataset\n",
            "-----------\n",
            "<class 'pandas.core.frame.DataFrame'>\n",
            "RangeIndex: 2362 entries, 0 to 2361\n",
            "Data columns (total 15 columns):\n",
            " #   Column             Non-Null Count  Dtype  \n",
            "---  ------             --------------  -----  \n",
            " 0   Length_of_stay     2362 non-null   int64  \n",
            " 1   In-hospital_death  2362 non-null   object \n",
            " 2   Age                2362 non-null   int64  \n",
            " 3   Gender             2362 non-null   object \n",
            " 4   Height             2362 non-null   float64\n",
            " 5   DiasABP_first      2362 non-null   int64  \n",
            " 6   Glucose_first      2362 non-null   int64  \n",
            " 7   HR_first           2362 non-null   float64\n",
            " 8   Temp_first         2362 non-null   float64\n",
            " 9   PaCO2_first        2362 non-null   int64  \n",
            " 10  PaO2_first         2362 non-null   int64  \n",
            " 11  Platelets_first    2362 non-null   int64  \n",
            " 12  WBC_first          2362 non-null   float64\n",
            " 13  Weight             2362 non-null   float64\n",
            " 14  MechVent           2362 non-null   object \n",
            "dtypes: float64(5), int64(7), object(3)\n",
            "memory usage: 276.9+ KB\n",
            "None\n"
          ]
        }
      ]
    },
    {
      "cell_type": "markdown",
      "source": [
        "Create lists of categorical and continuous features"
      ],
      "metadata": {
        "id": "W1oGyw1-fJhM"
      },
      "id": "W1oGyw1-fJhM"
    },
    {
      "cell_type": "code",
      "source": [
        "## Create lists of categorical and continuous features\n",
        "categorical_features = [ 'In-hospital_death','Gender', 'MechVent']\n",
        "continuous_features = df.columns[~df.columns.isin(categorical_features)].to_list()\n",
        "target_variable ='In-hospital_death'\n",
        "categorical_features.remove(target_variable)\n",
        "print(categorical_features)\n",
        "print(continuous_features)"
      ],
      "metadata": {
        "id": "e3VlYBvafNxU",
        "colab": {
          "base_uri": "https://localhost:8080/"
        },
        "outputId": "a97f230f-ba0e-4666-88a2-1acd95f9d4de"
      },
      "id": "e3VlYBvafNxU",
      "execution_count": null,
      "outputs": [
        {
          "output_type": "stream",
          "name": "stdout",
          "text": [
            "['Gender', 'MechVent']\n",
            "['Length_of_stay', 'Age', 'Height', 'DiasABP_first', 'Glucose_first', 'HR_first', 'Temp_first', 'PaCO2_first', 'PaO2_first', 'Platelets_first', 'WBC_first', 'Weight']\n"
          ]
        }
      ]
    },
    {
      "cell_type": "markdown",
      "source": [
        "Assign 'category' datatype to categorical columns"
      ],
      "metadata": {
        "id": "DzjCy2FngP1r"
      },
      "id": "DzjCy2FngP1r"
    },
    {
      "cell_type": "code",
      "source": [
        "## Assign 'category' datatype to categorical columns and the target variable column\n",
        "df[categorical_features] = df[categorical_features].astype('category')\n",
        "\n",
        "df[target_variable] = df[target_variable].astype('category')\n",
        "df.dtypes"
      ],
      "metadata": {
        "id": "41FlDeIggOPx",
        "colab": {
          "base_uri": "https://localhost:8080/"
        },
        "outputId": "0ed68114-7ed5-4bdc-db04-8907424d8534"
      },
      "id": "41FlDeIggOPx",
      "execution_count": null,
      "outputs": [
        {
          "output_type": "execute_result",
          "data": {
            "text/plain": [
              "Length_of_stay          int64\n",
              "In-hospital_death    category\n",
              "Age                     int64\n",
              "Gender               category\n",
              "Height                float64\n",
              "DiasABP_first           int64\n",
              "Glucose_first           int64\n",
              "HR_first              float64\n",
              "Temp_first            float64\n",
              "PaCO2_first             int64\n",
              "PaO2_first              int64\n",
              "Platelets_first         int64\n",
              "WBC_first             float64\n",
              "Weight                float64\n",
              "MechVent             category\n",
              "dtype: object"
            ]
          },
          "metadata": {},
          "execution_count": 31
        }
      ]
    },
    {
      "cell_type": "markdown",
      "source": [
        "One-hot encode the categorical features"
      ],
      "metadata": {
        "id": "o7nU62nGi-ek"
      },
      "id": "o7nU62nGi-ek"
    },
    {
      "cell_type": "code",
      "source": [
        "\n",
        "\n",
        "import numpy as np\n",
        "\n",
        "import matplotlib.pyplot as plt\n",
        "\n",
        "\n",
        "\n",
        "# Define the sigmoid function\n",
        "\n",
        "def sigmoid(x):\n",
        "\n",
        "    return 1 / (1 + np.exp(-x))\n",
        "\n",
        "\n",
        "\n",
        "# Create an array of x values from -10 to 10\n",
        "\n",
        "x = np.linspace(-10, 10, 400)\n",
        "\n",
        "\n",
        "\n",
        "# Calculate the corresponding y values using the sigmoid function\n",
        "\n",
        "y = sigmoid(x)\n",
        "\n",
        "\n",
        "\n",
        "# Create the plot\n",
        "\n",
        "plt.figure(figsize=(8, 6))\n",
        "\n",
        "plt.plot(x, y, label='Sigmoid Function', color='b')\n",
        "\n",
        "plt.xlabel('x')\n",
        "\n",
        "plt.ylabel('Sigmoid(x)')\n",
        "\n",
        "plt.title('Sigmoid Function')\n",
        "\n",
        "plt.grid(True)\n",
        "\n",
        "plt.legend()\n",
        "\n",
        "plt.show()\n"
      ],
      "metadata": {
        "colab": {
          "base_uri": "https://localhost:8080/",
          "height": 557
        },
        "id": "qXIyasftOjbL",
        "outputId": "5397632d-29c5-4734-8f19-85a6269783e6"
      },
      "id": "qXIyasftOjbL",
      "execution_count": null,
      "outputs": [
        {
          "output_type": "display_data",
          "data": {
            "text/plain": [
              "<Figure size 800x600 with 1 Axes>"
            ],
            "image/png": "[encoded data removed]"
          },
          "metadata": {}
        }
      ]
    },
    {
      "cell_type": "code",
      "source": [
        "pd.get_dummies(df[categorical_features])"
      ],
      "metadata": {
        "colab": {
          "base_uri": "https://localhost:8080/",
          "height": 424
        },
        "id": "R01c_7xYoziP",
        "outputId": "89bf7d4d-44f6-441a-914a-27d589ff51dc"
      },
      "id": "R01c_7xYoziP",
      "execution_count": null,
      "outputs": [
        {
          "output_type": "execute_result",
          "data": {
            "text/plain": [
              "      Gender_Female  Gender_Male  MechVent_No  MechVent_Yes\n",
              "0                 0            1            0             1\n",
              "1                 1            0            0             1\n",
              "2                 0            1            0             1\n",
              "3                 1            0            0             1\n",
              "4                 0            1            0             1\n",
              "...             ...          ...          ...           ...\n",
              "2357              0            1            0             1\n",
              "2358              1            0            1             0\n",
              "2359              0            1            0             1\n",
              "2360              0            1            0             1\n",
              "2361              1            0            1             0\n",
              "\n",
              "[2362 rows x 4 columns]"
            ],
            "text/html": [
              "\n",
              "  <div id=\"df-2e78fcd6-3251-4a82-89af-3a48e6ae32f7\" class=\"colab-df-container\">\n",
              "    <div>\n",
              "<style scoped>\n",
              "    .dataframe tbody tr th:only-of-type {\n",
              "        vertical-align: middle;\n",
              "    }\n",
              "\n",
              "    .dataframe tbody tr th {\n",
              "        vertical-align: top;\n",
              "    }\n",
              "\n",
              "    .dataframe thead th {\n",
              "        text-align: right;\n",
              "    }\n",
              "</style>\n",
              "<table border=\"1\" class=\"dataframe\">\n",
              "  <thead>\n",
              "    <tr style=\"text-align: right;\">\n",
              "      <th></th>\n",
              "      <th>Gender_Female</th>\n",
              "      <th>Gender_Male</th>\n",
              "      <th>MechVent_No</th>\n",
              "      <th>MechVent_Yes</th>\n",
              "    </tr>\n",
              "  </thead>\n",
              "  <tbody>\n",
              "    <tr>\n",
              "      <th>0</th>\n",
              "      <td>0</td>\n",
              "      <td>1</td>\n",
              "      <td>0</td>\n",
              "      <td>1</td>\n",
              "    </tr>\n",
              "    <tr>\n",
              "      <th>1</th>\n",
              "      <td>1</td>\n",
              "      <td>0</td>\n",
              "      <td>0</td>\n",
              "      <td>1</td>\n",
              "    </tr>\n",
              "    <tr>\n",
              "      <th>2</th>\n",
              "      <td>0</td>\n",
              "      <td>1</td>\n",
              "      <td>0</td>\n",
              "      <td>1</td>\n",
              "    </tr>\n",
              "    <tr>\n",
              "      <th>3</th>\n",
              "      <td>1</td>\n",
              "      <td>0</td>\n",
              "      <td>0</td>\n",
              "      <td>1</td>\n",
              "    </tr>\n",
              "    <tr>\n",
              "      <th>4</th>\n",
              "      <td>0</td>\n",
              "      <td>1</td>\n",
              "      <td>0</td>\n",
              "      <td>1</td>\n",
              "    </tr>\n",
              "    <tr>\n",
              "      <th>...</th>\n",
              "      <td>...</td>\n",
              "      <td>...</td>\n",
              "      <td>...</td>\n",
              "      <td>...</td>\n",
              "    </tr>\n",
              "    <tr>\n",
              "      <th>2357</th>\n",
              "      <td>0</td>\n",
              "      <td>1</td>\n",
              "      <td>0</td>\n",
              "      <td>1</td>\n",
              "    </tr>\n",
              "    <tr>\n",
              "      <th>2358</th>\n",
              "      <td>1</td>\n",
              "      <td>0</td>\n",
              "      <td>1</td>\n",
              "      <td>0</td>\n",
              "    </tr>\n",
              "    <tr>\n",
              "      <th>2359</th>\n",
              "      <td>0</td>\n",
              "      <td>1</td>\n",
              "      <td>0</td>\n",
              "      <td>1</td>\n",
              "    </tr>\n",
              "    <tr>\n",
              "      <th>2360</th>\n",
              "      <td>0</td>\n",
              "      <td>1</td>\n",
              "      <td>0</td>\n",
              "      <td>1</td>\n",
              "    </tr>\n",
              "    <tr>\n",
              "      <th>2361</th>\n",
              "      <td>1</td>\n",
              "      <td>0</td>\n",
              "      <td>1</td>\n",
              "      <td>0</td>\n",
              "    </tr>\n",
              "  </tbody>\n",
              "</table>\n",
              "<p>2362 rows × 4 columns</p>\n",
              "</div>\n",
              "    <div class=\"colab-df-buttons\">\n",
              "\n",
              "  <div class=\"colab-df-container\">\n",
              "    <button class=\"colab-df-convert\" onclick=\"convertToInteractive('df-2e78fcd6-3251-4a82-89af-3a48e6ae32f7')\"\n",
              "            title=\"Convert this dataframe to an interactive table.\"\n",
              "            style=\"display:none;\">\n",
              "\n",
              "  <svg xmlns=\"http://www.w3.org/2000/svg\" height=\"24px\" viewBox=\"0 -960 960 960\">\n",
              "    <path d=\"M120-120v-720h720v720H120Zm60-500h600v-160H180v160Zm220 220h160v-160H400v160Zm0 220h160v-160H400v160ZM180-400h160v-160H180v160Zm440 0h160v-160H620v160ZM180-180h160v-160H180v160Zm440 0h160v-160H620v160Z\"/>\n",
              "  </svg>\n",
              "    </button>\n",
              "\n",
              "  <style>\n",
              "    .colab-df-container {\n",
              "      display:flex;\n",
              "      gap: 12px;\n",
              "    }\n",
              "\n",
              "    .colab-df-convert {\n",
              "      background-color: #E8F0FE;\n",
              "      border: none;\n",
              "      border-radius: 50%;\n",
              "      cursor: pointer;\n",
              "      display: none;\n",
              "      fill: #1967D2;\n",
              "      height: 32px;\n",
              "      padding: 0 0 0 0;\n",
              "      width: 32px;\n",
              "    }\n",
              "\n",
              "    .colab-df-convert:hover {\n",
              "      background-color: #E2EBFA;\n",
              "      box-shadow: 0px 1px 2px rgba(60, 64, 67, 0.3), 0px 1px 3px 1px rgba(60, 64, 67, 0.15);\n",
              "      fill: #174EA6;\n",
              "    }\n",
              "\n",
              "    .colab-df-buttons div {\n",
              "      margin-bottom: 4px;\n",
              "    }\n",
              "\n",
              "    [theme=dark] .colab-df-convert {\n",
              "      background-color: #3B4455;\n",
              "      fill: #D2E3FC;\n",
              "    }\n",
              "\n",
              "    [theme=dark] .colab-df-convert:hover {\n",
              "      background-color: #434B5C;\n",
              "      box-shadow: 0px 1px 3px 1px rgba(0, 0, 0, 0.15);\n",
              "      filter: drop-shadow(0px 1px 2px rgba(0, 0, 0, 0.3));\n",
              "      fill: #FFFFFF;\n",
              "    }\n",
              "  </style>\n",
              "\n",
              "    <script>\n",
              "      const buttonEl =\n",
              "        document.querySelector('#df-2e78fcd6-3251-4a82-89af-3a48e6ae32f7 button.colab-df-convert');\n",
              "      buttonEl.style.display =\n",
              "        google.colab.kernel.accessAllowed ? 'block' : 'none';\n",
              "\n",
              "      async function convertToInteractive(key) {\n",
              "        const element = document.querySelector('#df-2e78fcd6-3251-4a82-89af-3a48e6ae32f7');\n",
              "        const dataTable =\n",
              "          await google.colab.kernel.invokeFunction('convertToInteractive',\n",
              "                                                    [key], {});\n",
              "        if (!dataTable) return;\n",
              "\n",
              "        const docLinkHtml = 'Like what you see? Visit the ' +\n",
              "          '<a target=\"_blank\" href=https://colab.research.google.com/notebooks/data_table.ipynb>data table notebook</a>'\n",
              "          + ' to learn more about interactive tables.';\n",
              "        element.innerHTML = '';\n",
              "        dataTable['output_type'] = 'display_data';\n",
              "        await google.colab.output.renderOutput(dataTable, element);\n",
              "        const docLink = document.createElement('div');\n",
              "        docLink.innerHTML = docLinkHtml;\n",
              "        element.appendChild(docLink);\n",
              "      }\n",
              "    </script>\n",
              "  </div>\n",
              "\n",
              "\n",
              "<div id=\"df-a6d3f6b9-893b-40d4-987e-37780b0e25d4\">\n",
              "  <button class=\"colab-df-quickchart\" onclick=\"quickchart('df-a6d3f6b9-893b-40d4-987e-37780b0e25d4')\"\n",
              "            title=\"Suggest charts.\"\n",
              "            style=\"display:none;\">\n",
              "\n",
              "<svg xmlns=\"http://www.w3.org/2000/svg\" height=\"24px\"viewBox=\"0 0 24 24\"\n",
              "     width=\"24px\">\n",
              "    <g>\n",
              "        <path d=\"M19 3H5c-1.1 0-2 .9-2 2v14c0 1.1.9 2 2 2h14c1.1 0 2-.9 2-2V5c0-1.1-.9-2-2-2zM9 17H7v-7h2v7zm4 0h-2V7h2v10zm4 0h-2v-4h2v4z\"/>\n",
              "    </g>\n",
              "</svg>\n",
              "  </button>\n",
              "\n",
              "<style>\n",
              "  .colab-df-quickchart {\n",
              "      --bg-color: #E8F0FE;\n",
              "      --fill-color: #1967D2;\n",
              "      --hover-bg-color: #E2EBFA;\n",
              "      --hover-fill-color: #174EA6;\n",
              "      --disabled-fill-color: #AAA;\n",
              "      --disabled-bg-color: #DDD;\n",
              "  }\n",
              "\n",
              "  [theme=dark] .colab-df-quickchart {\n",
              "      --bg-color: #3B4455;\n",
              "      --fill-color: #D2E3FC;\n",
              "      --hover-bg-color: #434B5C;\n",
              "      --hover-fill-color: #FFFFFF;\n",
              "      --disabled-bg-color: #3B4455;\n",
              "      --disabled-fill-color: #666;\n",
              "  }\n",
              "\n",
              "  .colab-df-quickchart {\n",
              "    background-color: var(--bg-color);\n",
              "    border: none;\n",
              "    border-radius: 50%;\n",
              "    cursor: pointer;\n",
              "    display: none;\n",
              "    fill: var(--fill-color);\n",
              "    height: 32px;\n",
              "    padding: 0;\n",
              "    width: 32px;\n",
              "  }\n",
              "\n",
              "  .colab-df-quickchart:hover {\n",
              "    background-color: var(--hover-bg-color);\n",
              "    box-shadow: 0 1px 2px rgba(60, 64, 67, 0.3), 0 1px 3px 1px rgba(60, 64, 67, 0.15);\n",
              "    fill: var(--button-hover-fill-color);\n",
              "  }\n",
              "\n",
              "  .colab-df-quickchart-complete:disabled,\n",
              "  .colab-df-quickchart-complete:disabled:hover {\n",
              "    background-color: var(--disabled-bg-color);\n",
              "    fill: var(--disabled-fill-color);\n",
              "    box-shadow: none;\n",
              "  }\n",
              "\n",
              "  .colab-df-spinner {\n",
              "    border: 2px solid var(--fill-color);\n",
              "    border-color: transparent;\n",
              "    border-bottom-color: var(--fill-color);\n",
              "    animation:\n",
              "      spin 1s steps(1) infinite;\n",
              "  }\n",
              "\n",
              "  @keyframes spin {\n",
              "    0% {\n",
              "      border-color: transparent;\n",
              "      border-bottom-color: var(--fill-color);\n",
              "      border-left-color: var(--fill-color);\n",
              "    }\n",
              "    20% {\n",
              "      border-color: transparent;\n",
              "      border-left-color: var(--fill-color);\n",
              "      border-top-color: var(--fill-color);\n",
              "    }\n",
              "    30% {\n",
              "      border-color: transparent;\n",
              "      border-left-color: var(--fill-color);\n",
              "      border-top-color: var(--fill-color);\n",
              "      border-right-color: var(--fill-color);\n",
              "    }\n",
              "    40% {\n",
              "      border-color: transparent;\n",
              "      border-right-color: var(--fill-color);\n",
              "      border-top-color: var(--fill-color);\n",
              "    }\n",
              "    60% {\n",
              "      border-color: transparent;\n",
              "      border-right-color: var(--fill-color);\n",
              "    }\n",
              "    80% {\n",
              "      border-color: transparent;\n",
              "      border-right-color: var(--fill-color);\n",
              "      border-bottom-color: var(--fill-color);\n",
              "    }\n",
              "    90% {\n",
              "      border-color: transparent;\n",
              "      border-bottom-color: var(--fill-color);\n",
              "    }\n",
              "  }\n",
              "</style>\n",
              "\n",
              "  <script>\n",
              "    async function quickchart(key) {\n",
              "      const quickchartButtonEl =\n",
              "        document.querySelector('#' + key + ' button');\n",
              "      quickchartButtonEl.disabled = true;  // To prevent multiple clicks.\n",
              "      quickchartButtonEl.classList.add('colab-df-spinner');\n",
              "      try {\n",
              "        const charts = await google.colab.kernel.invokeFunction(\n",
              "            'suggestCharts', [key], {});\n",
              "      } catch (error) {\n",
              "        console.error('Error during call to suggestCharts:', error);\n",
              "      }\n",
              "      quickchartButtonEl.classList.remove('colab-df-spinner');\n",
              "      quickchartButtonEl.classList.add('colab-df-quickchart-complete');\n",
              "    }\n",
              "    (() => {\n",
              "      let quickchartButtonEl =\n",
              "        document.querySelector('#df-a6d3f6b9-893b-40d4-987e-37780b0e25d4 button');\n",
              "      quickchartButtonEl.style.display =\n",
              "        google.colab.kernel.accessAllowed ? 'block' : 'none';\n",
              "    })();\n",
              "  </script>\n",
              "</div>\n",
              "    </div>\n",
              "  </div>\n"
            ]
          },
          "metadata": {},
          "execution_count": 33
        }
      ]
    },
    {
      "cell_type": "code",
      "source": [
        "## One-hot encode the categorical features\n",
        "df = pd.concat([df, pd.get_dummies(df[categorical_features])], axis = 1).drop(categorical_features, axis = 1)"
      ],
      "metadata": {
        "id": "hHcfJeF9i8-6"
      },
      "id": "hHcfJeF9i8-6",
      "execution_count": null,
      "outputs": []
    },
    {
      "cell_type": "markdown",
      "source": [
        "Label encode the target variable"
      ],
      "metadata": {
        "id": "7b1wjqIojPdH"
      },
      "id": "7b1wjqIojPdH"
    },
    {
      "cell_type": "code",
      "source": [
        "## Label encode the output label\n",
        "labenc = LabelEncoder()\n",
        "df[target_variable] = labenc.fit_transform(df[target_variable])"
      ],
      "metadata": {
        "id": "ElEWDNhAjYlf"
      },
      "id": "ElEWDNhAjYlf",
      "execution_count": null,
      "outputs": []
    },
    {
      "cell_type": "markdown",
      "source": [
        "How balanced is the dataset w.r.t. the target variable?"
      ],
      "metadata": {
        "id": "g2fvl6R0ixLZ"
      },
      "id": "g2fvl6R0ixLZ"
    },
    {
      "cell_type": "code",
      "source": [
        "## How balanced is the dataset w.r.t. the\n",
        "## target variable 'In-hospital_death'?\n",
        "print(np.mean(df['In-hospital_death'] == 0)*100)\n",
        "print(np.mean(df['In-hospital_death'] == 1)*100)\n",
        "df['In-hospital_death'].value_counts().plot(kind = 'barh')"
      ],
      "metadata": {
        "id": "5AUidZJbiveB",
        "colab": {
          "base_uri": "https://localhost:8080/",
          "height": 477
        },
        "outputId": "fd06ed8d-ce1f-4ecb-88c0-84c592f10543"
      },
      "id": "5AUidZJbiveB",
      "execution_count": null,
      "outputs": [
        {
          "output_type": "stream",
          "name": "stdout",
          "text": [
            "86.66384419983065\n",
            "13.336155800169347\n"
          ]
        },
        {
          "output_type": "execute_result",
          "data": {
            "text/plain": [
              "<Axes: >"
            ]
          },
          "metadata": {},
          "execution_count": 19
        },
        {
          "output_type": "display_data",
          "data": {
            "text/plain": [
              "<Figure size 640x480 with 1 Axes>"
            ],
            "image/png": "[encoded data removed]"
          },
          "metadata": {}
        }
      ]
    },
    {
      "cell_type": "markdown",
      "source": [
        "The final dataframe for analysis"
      ],
      "metadata": {
        "id": "VcKDeYxvlpmN"
      },
      "id": "VcKDeYxvlpmN"
    },
    {
      "cell_type": "code",
      "source": [
        "## The final dataframe for analysis\n",
        "df.head(5)"
      ],
      "metadata": {
        "id": "o96V_YhQlrtv",
        "colab": {
          "base_uri": "https://localhost:8080/",
          "height": 244
        },
        "outputId": "4dc1bbd0-bf7f-41bc-cbc9-647e9d6c7d8b"
      },
      "id": "o96V_YhQlrtv",
      "execution_count": null,
      "outputs": [
        {
          "output_type": "execute_result",
          "data": {
            "text/plain": [
              "   Length_of_stay  In-hospital_death  Age  Height  DiasABP_first  \\\n",
              "0               8                  0   76   175.3             67   \n",
              "1               6                  1   78   162.6             50   \n",
              "2               8                  0   74   175.3             51   \n",
              "3               7                  0   71   157.5             60   \n",
              "4              11                  0   78   167.6             57   \n",
              "\n",
              "   Glucose_first  HR_first  Temp_first  PaCO2_first  PaO2_first  \\\n",
              "0            105      88.0        35.2           34         344   \n",
              "1            132     111.0        38.0           30         128   \n",
              "2            106      67.0        34.8           42         486   \n",
              "3            132      84.0        35.5           35         245   \n",
              "4             90      73.0        34.7           40         281   \n",
              "\n",
              "   Platelets_first  WBC_first  Weight  Gender_Female  Gender_Male  \\\n",
              "0              164        7.4    80.6              0            1   \n",
              "1               91       16.1    48.4              1            0   \n",
              "2              141        9.0    66.1              0            1   \n",
              "3              120       13.7    55.8              1            0   \n",
              "4              121       12.5    72.4              0            1   \n",
              "\n",
              "   MechVent_No  MechVent_Yes  \n",
              "0            0             1  \n",
              "1            0             1  \n",
              "2            0             1  \n",
              "3            0             1  \n",
              "4            0             1  "
            ],
            "text/html": [
              "\n",
              "  <div id=\"df-e92c9aa8-5c39-40ed-a908-872468482ffb\" class=\"colab-df-container\">\n",
              "    <div>\n",
              "<style scoped>\n",
              "    .dataframe tbody tr th:only-of-type {\n",
              "        vertical-align: middle;\n",
              "    }\n",
              "\n",
              "    .dataframe tbody tr th {\n",
              "        vertical-align: top;\n",
              "    }\n",
              "\n",
              "    .dataframe thead th {\n",
              "        text-align: right;\n",
              "    }\n",
              "</style>\n",
              "<table border=\"1\" class=\"dataframe\">\n",
              "  <thead>\n",
              "    <tr style=\"text-align: right;\">\n",
              "      <th></th>\n",
              "      <th>Length_of_stay</th>\n",
              "      <th>In-hospital_death</th>\n",
              "      <th>Age</th>\n",
              "      <th>Height</th>\n",
              "      <th>DiasABP_first</th>\n",
              "      <th>Glucose_first</th>\n",
              "      <th>HR_first</th>\n",
              "      <th>Temp_first</th>\n",
              "      <th>PaCO2_first</th>\n",
              "      <th>PaO2_first</th>\n",
              "      <th>Platelets_first</th>\n",
              "      <th>WBC_first</th>\n",
              "      <th>Weight</th>\n",
              "      <th>Gender_Female</th>\n",
              "      <th>Gender_Male</th>\n",
              "      <th>MechVent_No</th>\n",
              "      <th>MechVent_Yes</th>\n",
              "    </tr>\n",
              "  </thead>\n",
              "  <tbody>\n",
              "    <tr>\n",
              "      <th>0</th>\n",
              "      <td>8</td>\n",
              "      <td>0</td>\n",
              "      <td>76</td>\n",
              "      <td>175.3</td>\n",
              "      <td>67</td>\n",
              "      <td>105</td>\n",
              "      <td>88.0</td>\n",
              "      <td>35.2</td>\n",
              "      <td>34</td>\n",
              "      <td>344</td>\n",
              "      <td>164</td>\n",
              "      <td>7.4</td>\n",
              "      <td>80.6</td>\n",
              "      <td>0</td>\n",
              "      <td>1</td>\n",
              "      <td>0</td>\n",
              "      <td>1</td>\n",
              "    </tr>\n",
              "    <tr>\n",
              "      <th>1</th>\n",
              "      <td>6</td>\n",
              "      <td>1</td>\n",
              "      <td>78</td>\n",
              "      <td>162.6</td>\n",
              "      <td>50</td>\n",
              "      <td>132</td>\n",
              "      <td>111.0</td>\n",
              "      <td>38.0</td>\n",
              "      <td>30</td>\n",
              "      <td>128</td>\n",
              "      <td>91</td>\n",
              "      <td>16.1</td>\n",
              "      <td>48.4</td>\n",
              "      <td>1</td>\n",
              "      <td>0</td>\n",
              "      <td>0</td>\n",
              "      <td>1</td>\n",
              "    </tr>\n",
              "    <tr>\n",
              "      <th>2</th>\n",
              "      <td>8</td>\n",
              "      <td>0</td>\n",
              "      <td>74</td>\n",
              "      <td>175.3</td>\n",
              "      <td>51</td>\n",
              "      <td>106</td>\n",
              "      <td>67.0</td>\n",
              "      <td>34.8</td>\n",
              "      <td>42</td>\n",
              "      <td>486</td>\n",
              "      <td>141</td>\n",
              "      <td>9.0</td>\n",
              "      <td>66.1</td>\n",
              "      <td>0</td>\n",
              "      <td>1</td>\n",
              "      <td>0</td>\n",
              "      <td>1</td>\n",
              "    </tr>\n",
              "    <tr>\n",
              "      <th>3</th>\n",
              "      <td>7</td>\n",
              "      <td>0</td>\n",
              "      <td>71</td>\n",
              "      <td>157.5</td>\n",
              "      <td>60</td>\n",
              "      <td>132</td>\n",
              "      <td>84.0</td>\n",
              "      <td>35.5</td>\n",
              "      <td>35</td>\n",
              "      <td>245</td>\n",
              "      <td>120</td>\n",
              "      <td>13.7</td>\n",
              "      <td>55.8</td>\n",
              "      <td>1</td>\n",
              "      <td>0</td>\n",
              "      <td>0</td>\n",
              "      <td>1</td>\n",
              "    </tr>\n",
              "    <tr>\n",
              "      <th>4</th>\n",
              "      <td>11</td>\n",
              "      <td>0</td>\n",
              "      <td>78</td>\n",
              "      <td>167.6</td>\n",
              "      <td>57</td>\n",
              "      <td>90</td>\n",
              "      <td>73.0</td>\n",
              "      <td>34.7</td>\n",
              "      <td>40</td>\n",
              "      <td>281</td>\n",
              "      <td>121</td>\n",
              "      <td>12.5</td>\n",
              "      <td>72.4</td>\n",
              "      <td>0</td>\n",
              "      <td>1</td>\n",
              "      <td>0</td>\n",
              "      <td>1</td>\n",
              "    </tr>\n",
              "  </tbody>\n",
              "</table>\n",
              "</div>\n",
              "    <div class=\"colab-df-buttons\">\n",
              "\n",
              "  <div class=\"colab-df-container\">\n",
              "    <button class=\"colab-df-convert\" onclick=\"convertToInteractive('df-e92c9aa8-5c39-40ed-a908-872468482ffb')\"\n",
              "            title=\"Convert this dataframe to an interactive table.\"\n",
              "            style=\"display:none;\">\n",
              "\n",
              "  <svg xmlns=\"http://www.w3.org/2000/svg\" height=\"24px\" viewBox=\"0 -960 960 960\">\n",
              "    <path d=\"M120-120v-720h720v720H120Zm60-500h600v-160H180v160Zm220 220h160v-160H400v160Zm0 220h160v-160H400v160ZM180-400h160v-160H180v160Zm440 0h160v-160H620v160ZM180-180h160v-160H180v160Zm440 0h160v-160H620v160Z\"/>\n",
              "  </svg>\n",
              "    </button>\n",
              "\n",
              "  <style>\n",
              "    .colab-df-container {\n",
              "      display:flex;\n",
              "      gap: 12px;\n",
              "    }\n",
              "\n",
              "    .colab-df-convert {\n",
              "      background-color: #E8F0FE;\n",
              "      border: none;\n",
              "      border-radius: 50%;\n",
              "      cursor: pointer;\n",
              "      display: none;\n",
              "      fill: #1967D2;\n",
              "      height: 32px;\n",
              "      padding: 0 0 0 0;\n",
              "      width: 32px;\n",
              "    }\n",
              "\n",
              "    .colab-df-convert:hover {\n",
              "      background-color: #E2EBFA;\n",
              "      box-shadow: 0px 1px 2px rgba(60, 64, 67, 0.3), 0px 1px 3px 1px rgba(60, 64, 67, 0.15);\n",
              "      fill: #174EA6;\n",
              "    }\n",
              "\n",
              "    .colab-df-buttons div {\n",
              "      margin-bottom: 4px;\n",
              "    }\n",
              "\n",
              "    [theme=dark] .colab-df-convert {\n",
              "      background-color: #3B4455;\n",
              "      fill: #D2E3FC;\n",
              "    }\n",
              "\n",
              "    [theme=dark] .colab-df-convert:hover {\n",
              "      background-color: #434B5C;\n",
              "      box-shadow: 0px 1px 3px 1px rgba(0, 0, 0, 0.15);\n",
              "      filter: drop-shadow(0px 1px 2px rgba(0, 0, 0, 0.3));\n",
              "      fill: #FFFFFF;\n",
              "    }\n",
              "  </style>\n",
              "\n",
              "    <script>\n",
              "      const buttonEl =\n",
              "        document.querySelector('#df-e92c9aa8-5c39-40ed-a908-872468482ffb button.colab-df-convert');\n",
              "      buttonEl.style.display =\n",
              "        google.colab.kernel.accessAllowed ? 'block' : 'none';\n",
              "\n",
              "      async function convertToInteractive(key) {\n",
              "        const element = document.querySelector('#df-e92c9aa8-5c39-40ed-a908-872468482ffb');\n",
              "        const dataTable =\n",
              "          await google.colab.kernel.invokeFunction('convertToInteractive',\n",
              "                                                    [key], {});\n",
              "        if (!dataTable) return;\n",
              "\n",
              "        const docLinkHtml = 'Like what you see? Visit the ' +\n",
              "          '<a target=\"_blank\" href=https://colab.research.google.com/notebooks/data_table.ipynb>data table notebook</a>'\n",
              "          + ' to learn more about interactive tables.';\n",
              "        element.innerHTML = '';\n",
              "        dataTable['output_type'] = 'display_data';\n",
              "        await google.colab.output.renderOutput(dataTable, element);\n",
              "        const docLink = document.createElement('div');\n",
              "        docLink.innerHTML = docLinkHtml;\n",
              "        element.appendChild(docLink);\n",
              "      }\n",
              "    </script>\n",
              "  </div>\n",
              "\n",
              "\n",
              "<div id=\"df-5c18f945-752b-40ff-bb46-6a3e23828746\">\n",
              "  <button class=\"colab-df-quickchart\" onclick=\"quickchart('df-5c18f945-752b-40ff-bb46-6a3e23828746')\"\n",
              "            title=\"Suggest charts.\"\n",
              "            style=\"display:none;\">\n",
              "\n",
              "<svg xmlns=\"http://www.w3.org/2000/svg\" height=\"24px\"viewBox=\"0 0 24 24\"\n",
              "     width=\"24px\">\n",
              "    <g>\n",
              "        <path d=\"M19 3H5c-1.1 0-2 .9-2 2v14c0 1.1.9 2 2 2h14c1.1 0 2-.9 2-2V5c0-1.1-.9-2-2-2zM9 17H7v-7h2v7zm4 0h-2V7h2v10zm4 0h-2v-4h2v4z\"/>\n",
              "    </g>\n",
              "</svg>\n",
              "  </button>\n",
              "\n",
              "<style>\n",
              "  .colab-df-quickchart {\n",
              "      --bg-color: #E8F0FE;\n",
              "      --fill-color: #1967D2;\n",
              "      --hover-bg-color: #E2EBFA;\n",
              "      --hover-fill-color: #174EA6;\n",
              "      --disabled-fill-color: #AAA;\n",
              "      --disabled-bg-color: #DDD;\n",
              "  }\n",
              "\n",
              "  [theme=dark] .colab-df-quickchart {\n",
              "      --bg-color: #3B4455;\n",
              "      --fill-color: #D2E3FC;\n",
              "      --hover-bg-color: #434B5C;\n",
              "      --hover-fill-color: #FFFFFF;\n",
              "      --disabled-bg-color: #3B4455;\n",
              "      --disabled-fill-color: #666;\n",
              "  }\n",
              "\n",
              "  .colab-df-quickchart {\n",
              "    background-color: var(--bg-color);\n",
              "    border: none;\n",
              "    border-radius: 50%;\n",
              "    cursor: pointer;\n",
              "    display: none;\n",
              "    fill: var(--fill-color);\n",
              "    height: 32px;\n",
              "    padding: 0;\n",
              "    width: 32px;\n",
              "  }\n",
              "\n",
              "  .colab-df-quickchart:hover {\n",
              "    background-color: var(--hover-bg-color);\n",
              "    box-shadow: 0 1px 2px rgba(60, 64, 67, 0.3), 0 1px 3px 1px rgba(60, 64, 67, 0.15);\n",
              "    fill: var(--button-hover-fill-color);\n",
              "  }\n",
              "\n",
              "  .colab-df-quickchart-complete:disabled,\n",
              "  .colab-df-quickchart-complete:disabled:hover {\n",
              "    background-color: var(--disabled-bg-color);\n",
              "    fill: var(--disabled-fill-color);\n",
              "    box-shadow: none;\n",
              "  }\n",
              "\n",
              "  .colab-df-spinner {\n",
              "    border: 2px solid var(--fill-color);\n",
              "    border-color: transparent;\n",
              "    border-bottom-color: var(--fill-color);\n",
              "    animation:\n",
              "      spin 1s steps(1) infinite;\n",
              "  }\n",
              "\n",
              "  @keyframes spin {\n",
              "    0% {\n",
              "      border-color: transparent;\n",
              "      border-bottom-color: var(--fill-color);\n",
              "      border-left-color: var(--fill-color);\n",
              "    }\n",
              "    20% {\n",
              "      border-color: transparent;\n",
              "      border-left-color: var(--fill-color);\n",
              "      border-top-color: var(--fill-color);\n",
              "    }\n",
              "    30% {\n",
              "      border-color: transparent;\n",
              "      border-left-color: var(--fill-color);\n",
              "      border-top-color: var(--fill-color);\n",
              "      border-right-color: var(--fill-color);\n",
              "    }\n",
              "    40% {\n",
              "      border-color: transparent;\n",
              "      border-right-color: var(--fill-color);\n",
              "      border-top-color: var(--fill-color);\n",
              "    }\n",
              "    60% {\n",
              "      border-color: transparent;\n",
              "      border-right-color: var(--fill-color);\n",
              "    }\n",
              "    80% {\n",
              "      border-color: transparent;\n",
              "      border-right-color: var(--fill-color);\n",
              "      border-bottom-color: var(--fill-color);\n",
              "    }\n",
              "    90% {\n",
              "      border-color: transparent;\n",
              "      border-bottom-color: var(--fill-color);\n",
              "    }\n",
              "  }\n",
              "</style>\n",
              "\n",
              "  <script>\n",
              "    async function quickchart(key) {\n",
              "      const quickchartButtonEl =\n",
              "        document.querySelector('#' + key + ' button');\n",
              "      quickchartButtonEl.disabled = true;  // To prevent multiple clicks.\n",
              "      quickchartButtonEl.classList.add('colab-df-spinner');\n",
              "      try {\n",
              "        const charts = await google.colab.kernel.invokeFunction(\n",
              "            'suggestCharts', [key], {});\n",
              "      } catch (error) {\n",
              "        console.error('Error during call to suggestCharts:', error);\n",
              "      }\n",
              "      quickchartButtonEl.classList.remove('colab-df-spinner');\n",
              "      quickchartButtonEl.classList.add('colab-df-quickchart-complete');\n",
              "    }\n",
              "    (() => {\n",
              "      let quickchartButtonEl =\n",
              "        document.querySelector('#df-5c18f945-752b-40ff-bb46-6a3e23828746 button');\n",
              "      quickchartButtonEl.style.display =\n",
              "        google.colab.kernel.accessAllowed ? 'block' : 'none';\n",
              "    })();\n",
              "  </script>\n",
              "</div>\n",
              "    </div>\n",
              "  </div>\n"
            ]
          },
          "metadata": {},
          "execution_count": 20
        }
      ]
    },
    {
      "cell_type": "markdown",
      "source": [
        "Stratified train and test split of the data"
      ],
      "metadata": {
        "id": "D2QJ3VeVmW4e"
      },
      "id": "D2QJ3VeVmW4e"
    },
    {
      "cell_type": "code",
      "source": [
        "## Stratified train and test split of the data\n",
        "X = df.drop('In-hospital_death', axis = 1)\n",
        "y = df['In-hospital_death']\n",
        "X_train, X_test, y_train, y_test = train_test_split(X, y,\n",
        "                                                    stratify = y,\n",
        "                                                    test_size = 0.2,\n",
        "                                                    random_state = 1)"
      ],
      "metadata": {
        "id": "G-j85ye1mUx_"
      },
      "id": "G-j85ye1mUx_",
      "execution_count": null,
      "outputs": []
    },
    {
      "cell_type": "markdown",
      "source": [
        "Check the proportion of output labels in train and test set"
      ],
      "metadata": {
        "id": "rKiJc4cFmsjl"
      },
      "id": "rKiJc4cFmsjl"
    },
    {
      "cell_type": "code",
      "source": [
        "## Check the proportion of output labels in train and test set\n",
        "print('Proportion of 1-to-0 labels in train set = %f, test set = %f\\n'%\n",
        "      (np.mean(y_train == 1), np.mean(y_test == 1)))"
      ],
      "metadata": {
        "id": "rDOkaEcxmnTm",
        "colab": {
          "base_uri": "https://localhost:8080/"
        },
        "outputId": "b11dc2d0-06b8-4160-96ef-e0df36efed67"
      },
      "id": "rDOkaEcxmnTm",
      "execution_count": null,
      "outputs": [
        {
          "output_type": "stream",
          "name": "stdout",
          "text": [
            "Proportion of 1-to-0 labels in train set = 0.133404, test set = 0.133192\n",
            "\n"
          ]
        }
      ]
    },
    {
      "cell_type": "markdown",
      "source": [
        "Logistic regression starts from here"
      ],
      "metadata": {
        "id": "hW0zPbuqnzZN"
      },
      "id": "hW0zPbuqnzZN"
    },
    {
      "cell_type": "code",
      "source": [
        "num_samples =  X.shape[0] # number of samples\n",
        "num_features = X.shape[1] # number of features (a.k.a. dimensionality)\n",
        "num_labels = len(np.unique(y)) # number of unique target variable labels"
      ],
      "metadata": {
        "id": "tu93UDOHn5mn"
      },
      "id": "tu93UDOHn5mn",
      "execution_count": null,
      "outputs": []
    },
    {
      "cell_type": "markdown",
      "source": [
        "Add bias feature to all samples"
      ],
      "metadata": {
        "id": "QgCccBbvo74t"
      },
      "id": "QgCccBbvo74t"
    },
    {
      "cell_type": "code",
      "source": [
        "## Add bias feature to all samples\n",
        "X = np.vstack([X, np.ones((?, ?))])\n",
        "num_features += 1"
      ],
      "metadata": {
        "id": "LLoYT1Neo8S1"
      },
      "id": "LLoYT1Neo8S1",
      "execution_count": null,
      "outputs": []
    },
    {
      "cell_type": "markdown",
      "source": [
        "Initial weight vector including bias term"
      ],
      "metadata": {
        "id": "xjG2wb28pN_j"
      },
      "id": "xjG2wb28pN_j"
    },
    {
      "cell_type": "code",
      "source": [
        "## Initial weight vector including bias term\n",
        "w = np.random.choice(np.arange(?, ?), size = (?, ), replace = True)\n",
        "print('w = ')\n",
        "print(w)"
      ],
      "metadata": {
        "id": "pagJi3pOpBl_"
      },
      "id": "pagJi3pOpBl_",
      "execution_count": null,
      "outputs": []
    },
    {
      "cell_type": "markdown",
      "source": [
        "Define sigmoid function"
      ],
      "metadata": {
        "id": "UFzjeHdtpWrR"
      },
      "id": "UFzjeHdtpWrR"
    },
    {
      "cell_type": "code",
      "source": [
        "## Define sigmoid function\n",
        "sigmoid = lambda x : 1 / (1+np.exp(?))"
      ],
      "metadata": {
        "id": "lSdumesIpRqp"
      },
      "id": "lSdumesIpRqp",
      "execution_count": null,
      "outputs": []
    },
    {
      "cell_type": "markdown",
      "source": [
        "Calculate raw and sigmoid-activated scores for all samples"
      ],
      "metadata": {
        "id": "YgluOAeJr0ge"
      },
      "id": "YgluOAeJr0ge"
    },
    {
      "cell_type": "code",
      "source": [
        "## Calculate raw scores for all samples\n",
        "z = np.dot(?, ?)\n",
        "\n",
        "## Calculate sigmoid-activated scores for all samples\n",
        "a = sigmoid(?)"
      ],
      "metadata": {
        "id": "JFavzM8Wr01w"
      },
      "id": "JFavzM8Wr01w",
      "execution_count": null,
      "outputs": []
    },
    {
      "cell_type": "markdown",
      "source": [
        "Calculate average data loss"
      ],
      "metadata": {
        "id": "LzJtV9ZTsBdZ"
      },
      "id": "LzJtV9ZTsBdZ"
    },
    {
      "cell_type": "code",
      "source": [
        "## Calculate total average data loss\n",
        "loss_data = np.mean(y*np.log(?) + (?-?)*np.log(?-?))"
      ],
      "metadata": {
        "id": "iQceqIWPr7Wl"
      },
      "id": "iQceqIWPr7Wl",
      "execution_count": null,
      "outputs": []
    },
    {
      "cell_type": "markdown",
      "source": [
        "Calculate regularization loss"
      ],
      "metadata": {
        "id": "Uq0KumXlsMjw"
      },
      "id": "Uq0KumXlsMjw"
    },
    {
      "cell_type": "code",
      "source": [
        "## Calculate regularization loss\n",
        "reg = 0.1 # regularization strength\n",
        "loss_reg = reg * np.sum(? * ?)"
      ],
      "metadata": {
        "id": "pQilo0LgsCd5"
      },
      "id": "pQilo0LgsCd5",
      "execution_count": null,
      "outputs": []
    },
    {
      "cell_type": "markdown",
      "source": [
        "Calculate total loss as sum of data loss and regularization loss"
      ],
      "metadata": {
        "id": "bhIGmnjjsacL"
      },
      "id": "bhIGmnjjsacL"
    },
    {
      "cell_type": "code",
      "source": [
        "## Calculate total loss as sum of data loss and regularization loss\n",
        "loss = loss_data + loss_reg\n",
        "print('Total loss = data loss + regularization loss')\n",
        "print(loss)"
      ],
      "metadata": {
        "id": "5E46GfWMsQc8"
      },
      "id": "5E46GfWMsQc8",
      "execution_count": null,
      "outputs": []
    },
    {
      "cell_type": "markdown",
      "source": [
        "Calculate the gradient w.r.t. weights"
      ],
      "metadata": {
        "id": "BYhezgWJsrA_"
      },
      "id": "BYhezgWJsrA_"
    },
    {
      "cell_type": "code",
      "source": [
        "## Calculate the gradient w.r.t. weights\n",
        "## Sum of gradient of average data loss and the gradient of the regularization loss\n",
        "dw = (1/?) * np.dot(?, ?-?) + 2 * reg * np.hstack([?, 0])\n",
        "print('Gradient vector = ')\n",
        "print(dw)"
      ],
      "metadata": {
        "id": "KartTZFRsgyR"
      },
      "id": "KartTZFRsgyR",
      "execution_count": null,
      "outputs": []
    }
  ],
  "metadata": {
    "kernelspec": {
      "display_name": "Python 3 (ipykernel)",
      "language": "python",
      "name": "python3"
    },
    "language_info": {
      "codemirror_mode": {
        "name": "ipython",
        "version": 3
      },
      "file_extension": ".py",
      "mimetype": "text/x-python",
      "name": "python",
      "nbconvert_exporter": "python",
      "pygments_lexer": "ipython3",
      "version": "3.9.17"
    },
    "colab": {
      "provenance": [],
      "include_colab_link": true
    }
  },
  "nbformat": 4,
  "nbformat_minor": 5
}